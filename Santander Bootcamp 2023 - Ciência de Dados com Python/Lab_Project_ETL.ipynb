{
  "nbformat": 4,
  "nbformat_minor": 0,
  "metadata": {
    "colab": {
      "provenance": []
    },
    "kernelspec": {
      "name": "python3",
      "display_name": "Python 3"
    },
    "language_info": {
      "name": "python"
    }
  },
  "cells": [
    {
      "cell_type": "markdown",
      "source": [
        "## LAB PROJECT - EXPLORANDO IA GENERATIVA EM UM ETL COM PYTHON\n",
        "\n",
        "Essa é a minha versão do desafio para finalizar o módulo de Ciência de Dados e Python.\n",
        "\n",
        "**Contexto**:\n",
        "Processo de ETL usando um arquivo csv, realização da extração dos usuários, geração de uma mensagem relacionada à Campanha Outubro Rosa, essa mensagem deverá ser enviada para o email cadastrado no arquivo, carregamento de um novo arquivo contendo o status de cada email enviado e o retorno de como a mensagem aparece para cada usuário baseado no seu ID.\n",
        "\n",
        "Infelizmente meu plano teste da Open AI já tinha finalizado e por isso não usei a API da Open AI. Também não usei a API da Santander Week  já que era opcional.\n",
        "\n"
      ],
      "metadata": {
        "id": "v5pO9HHzC3Mh"
      }
    },
    {
      "cell_type": "markdown",
      "source": [
        "##*Bibliotecas*"
      ],
      "metadata": {
        "id": "ADJUqTaCOW9D"
      }
    },
    {
      "cell_type": "code",
      "source": [
        "import pandas as pd"
      ],
      "metadata": {
        "id": "YxkqsikrOfYB"
      },
      "execution_count": null,
      "outputs": []
    },
    {
      "cell_type": "markdown",
      "source": [
        "## **EXTRAÇÃO**\n",
        "---\n",
        "A leitura dos dados também ocorrerá no mesmo código ultilizado no bloco de *transformação*, mas adicionei esse bloco de extração para mostrar uma visualização do arquivo usado.\n",
        "\n",
        "Através do site https://www.mockaroo.com , pude gerar um arquivo com dados falsos para testes."
      ],
      "metadata": {
        "id": "MN-7yT1iX44b"
      }
    },
    {
      "cell_type": "code",
      "source": [
        "df = pd.read_csv(\"MOCK_DATA.csv\")\n",
        "print(df)"
      ],
      "metadata": {
        "colab": {
          "base_uri": "https://localhost:8080/"
        },
        "id": "iTZkhO08QUME",
        "outputId": "d1bdd3e1-8317-4c56-99eb-25d19ca15c1e"
      },
      "execution_count": null,
      "outputs": [
        {
          "output_type": "stream",
          "name": "stdout",
          "text": [
            "       id   first_name    last_name                        email       gender\n",
            "0       1      Luciano      Ingreda       lingreda0@china.com.cn         Male\n",
            "1       2        Wenda         Jori        wjori1@bravesites.com       Female\n",
            "2       3       Teddie  Kondratenko  tkondratenko2@parallels.com         Male\n",
            "3       4       Babbie       Arcase   barcase3@cocolog-nifty.com  Genderfluid\n",
            "4       5     Isahella      Storcke       istorcke4@e-recht24.de       Female\n",
            "..    ...          ...          ...                          ...          ...\n",
            "995   996        Nelli       Myhill           nmyhillrn@sohu.com       Female\n",
            "996   997        Cosmo        Deeny        cdeenyro@columbia.edu         Male\n",
            "997   998          Isa        Weems      iweemsrp@cloudflare.com       Female\n",
            "998   999    Ellswerth        Poyle     epoylerq@cyberchimps.com         Male\n",
            "999  1000  Clerkclaude     Pidgeley       cpidgeleyrr@sphinn.com         Male\n",
            "\n",
            "[1000 rows x 5 columns]\n"
          ]
        }
      ]
    },
    {
      "cell_type": "markdown",
      "source": [],
      "metadata": {
        "id": "yThVfPx5xFvJ"
      }
    },
    {
      "cell_type": "markdown",
      "source": [
        "##**TRANSFORMAÇÃO**\n",
        "---\n",
        "Com ajuda do ChatGPT-3 da OpenAI pude tirar algumas dúvidas sobre algumas estruturas que não foram abordadas no módulo de Pyhton e Ciência de Dados.  \n"
      ],
      "metadata": {
        "id": "P9NZchYNYDa9"
      }
    },
    {
      "cell_type": "code",
      "source": [
        "import csv\n",
        "\n",
        "# Etapa 1: Leitura dos Dados (Extração)\n",
        "\n",
        "\n",
        "input_file = 'MOCK_DATA.csv'\n",
        "data = []  # Para armazenar os dados do arquivo CSV\n",
        "with open(input_file, mode='r') as file:\n",
        "    csv_reader = csv.DictReader(file)\n",
        "    for row in csv_reader:\n",
        "        data.append(row)\n",
        "\n",
        "# Etapa 2: Geração das Mensagens (Transformação)\n",
        "def gerar_mensagem(id, first_name):\n",
        "    return f\"\"\"Olá, {first_name}! Outubro Rosa é um lembrete importante da conscientização sobre o câncer de mama.\n",
        "     Junte-se a nós na luta pela detecção precoce e apoio às pessoas afetadas. Sua atenção pode fazer a diferença. Juntas somos mais fortes!\"\"\"\n",
        "\n",
        "# Etapa 3: Envio das Mensagens\n",
        "sent_records = []\n",
        "for row in data:\n",
        "    id = row['id']\n",
        "    email = row['email']\n",
        "    first_name = row['first_name']\n",
        "    mensagem = gerar_mensagem(id, first_name)\n",
        "\n",
        "\n",
        "    # Registro de envio\n",
        "    sent_records.append({'ID': id, 'Email': email, 'Status': 'Enviado'})\n",
        "\n",
        "# Etapa 4: Registro do Envio (Transformação)\n",
        "\n",
        "# Etapa 5: Carga dos Registros em um Novo Arquivo (Carga)\n",
        "output_file = 'registro_envio.csv'\n",
        "with open(output_file, mode='w', newline='') as file:\n",
        "    fieldnames = ['ID', 'Email', 'Status']\n",
        "    writer = csv.DictWriter(file, fieldnames=fieldnames)\n",
        "    writer.writeheader()\n",
        "    for record in sent_records:\n",
        "        writer.writerow(record)\n",
        "\n",
        "print(\"Registro de envio gerado com sucesso em\", output_file)\n"
      ],
      "metadata": {
        "colab": {
          "base_uri": "https://localhost:8080/"
        },
        "id": "V1T2Ml2xeHh1",
        "outputId": "7f67c7a7-a351-47f6-d222-a7ad8c1287f3"
      },
      "execution_count": 68,
      "outputs": [
        {
          "output_type": "stream",
          "name": "stdout",
          "text": [
            "Registro de envio gerado com sucesso em registro_envio.csv\n"
          ]
        }
      ]
    },
    {
      "cell_type": "markdown",
      "source": [
        "\n",
        "O bloco de Loading (carga) pode ser observado na seguinte parte do código anterior:\n",
        "```\n",
        "# sent_records.append({'ID': id, 'Email': email, 'Status': 'Enviado'})\n",
        "output_file = 'registro_envio.csv'\n",
        "with open(output_file, mode='w', newline='') as file:\n",
        "    fieldnames = ['ID', 'Email', 'Status']\n",
        "    writer = csv.DictWriter(file, fieldnames=fieldnames)\n",
        "    writer.writeheader()\n",
        "    for record in sent_records:\n",
        "        writer.writerow(record)\n",
        "\n",
        "print(\"Registro de envio gerado com sucesso em\", output_file)\n",
        "```\n",
        "\n",
        "Um novo arquivo foi gerado informando o status do envio de cada e-mail.\n",
        "Abaixo é possível visualizar o arquivo de registro:\n"
      ],
      "metadata": {
        "id": "erg57Hy77Awl"
      }
    },
    {
      "cell_type": "code",
      "source": [
        "df = pd.read_csv(\"registro_envio.csv\")\n",
        "print(df)"
      ],
      "metadata": {
        "colab": {
          "base_uri": "https://localhost:8080/"
        },
        "id": "DXarV5HLxHAg",
        "outputId": "2dd59e14-a427-455b-9f5b-94e04cf2e1fc"
      },
      "execution_count": 69,
      "outputs": [
        {
          "output_type": "stream",
          "name": "stdout",
          "text": [
            "       ID                        Email   Status\n",
            "0       1       lingreda0@china.com.cn  Enviado\n",
            "1       2        wjori1@bravesites.com  Enviado\n",
            "2       3  tkondratenko2@parallels.com  Enviado\n",
            "3       4   barcase3@cocolog-nifty.com  Enviado\n",
            "4       5       istorcke4@e-recht24.de  Enviado\n",
            "..    ...                          ...      ...\n",
            "995   996           nmyhillrn@sohu.com  Enviado\n",
            "996   997        cdeenyro@columbia.edu  Enviado\n",
            "997   998      iweemsrp@cloudflare.com  Enviado\n",
            "998   999     epoylerq@cyberchimps.com  Enviado\n",
            "999  1000       cpidgeleyrr@sphinn.com  Enviado\n",
            "\n",
            "[1000 rows x 3 columns]\n"
          ]
        }
      ]
    },
    {
      "cell_type": "markdown",
      "source": [
        "No seguinte código é possível visualizar uma amostra de como ficou o corpo da mensagem enviada. A pesquisa pode ser realizada por ID de usuário.\n"
      ],
      "metadata": {
        "id": "YeB6XE1c7qZF"
      }
    },
    {
      "cell_type": "code",
      "source": [
        "import csv\n",
        "\n",
        "# Nome do arquivo CSV com os registros de envio\n",
        "registro_envio_file = 'MOCK_DATA.csv'\n",
        "\n",
        "# Função para mostrar uma mensagem para um usuário específico\n",
        "def mostrar_mensagem_para_usuario(usuario_id):\n",
        "    # Lê o arquivo de registro de envio\n",
        "    with open(registro_envio_file, mode='r') as file:\n",
        "        csv_reader = csv.DictReader(file)\n",
        "        for row in csv_reader:\n",
        "            if row['id'] == usuario_id:\n",
        "                mensagem = gerar_mensagem(id,first_name)\n",
        "                print(f'Mensagem para o usuário com ID {usuario_id}:\\n{mensagem}')\n",
        "                return\n",
        "\n",
        "# Chame a função para mostrar a mensagem para um usuário específico\n",
        "usuario_id = '2'  # Substitua pelo ID do usuário desejado\n",
        "mostrar_mensagem_para_usuario(usuario_id)\n"
      ],
      "metadata": {
        "colab": {
          "base_uri": "https://localhost:8080/"
        },
        "id": "SZb_pFnH2Kji",
        "outputId": "b9177794-0255-4a99-de3d-232c4e836b19"
      },
      "execution_count": 71,
      "outputs": [
        {
          "output_type": "stream",
          "name": "stdout",
          "text": [
            "Mensagem para o usuário com ID 2:\n",
            "Olá, Clerkclaude! Outubro Rosa é um lembrete importante da conscientização sobre o câncer de mama.\n",
            "     Junte-se a nós na luta pela detecção precoce e apoio às pessoas afetadas. Sua atenção pode fazer a diferença. Juntas somos mais fortes!\n"
          ]
        }
      ]
    },
    {
      "cell_type": "markdown",
      "source": [
        "## **Conclusão**\n",
        "\n",
        "Esse foi o meu primeiro processo ETL, confesso que não foi fácil abstrair um modelo diferente para esse deafio, por outro lado foi um bom exercício para criatividade.\n",
        "\n",
        "Espero poder contribuir futuramente com pipelines mais elaboradas e melhores desenvolvidas, porém reconheço meus esforços para o resultado desse desafio.\n"
      ],
      "metadata": {
        "id": "zD_xB4bjKAKl"
      }
    }
  ]
}